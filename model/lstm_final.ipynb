{
  "nbformat": 4,
  "nbformat_minor": 0,
  "metadata": {
    "colab": {
      "name": "lstm_final.ipynb",
      "provenance": []
    },
    "kernelspec": {
      "name": "python3",
      "display_name": "Python 3"
    }
  },
  "cells": [
    {
      "cell_type": "markdown",
      "metadata": {
        "id": "27U8B8Bm3fCQ"
      },
      "source": [
        "# Ajout des données"
      ]
    },
    {
      "cell_type": "code",
      "metadata": {
        "colab": {
          "base_uri": "https://localhost:8080/"
        },
        "id": "RhpWg301y-55",
        "outputId": "2fe64c85-d382-47af-f83f-7595a19f36f3"
      },
      "source": [
        "import io\r\n",
        "from google.colab import drive\r\n",
        "import pandas as pd\r\n",
        "import numpy as np\r\n",
        "drive.mount('/content/drive')\r\n",
        "source_folder =r'/content/drive/My Drive/data_deeplearning.csv'\r\n",
        "df = pd.read_csv(source_folder,sep=\";\")"
      ],
      "execution_count": null,
      "outputs": [
        {
          "output_type": "stream",
          "text": [
            "Mounted at /content/drive\n"
          ],
          "name": "stdout"
        }
      ]
    },
    {
      "cell_type": "markdown",
      "metadata": {
        "id": "gOD5YKGK3rlc"
      },
      "source": [
        "# Preprocessing"
      ]
    },
    {
      "cell_type": "markdown",
      "metadata": {
        "id": "tZxFZ89N3w98"
      },
      "source": [
        "Suppression des lyrics qui ne sont pas en français ni en anglais"
      ]
    },
    {
      "cell_type": "code",
      "metadata": {
        "colab": {
          "base_uri": "https://localhost:8080/"
        },
        "id": "l0IhqG1WzbJx",
        "outputId": "743dc8c8-757c-4276-a603-36f2387f9444"
      },
      "source": [
        "!pip install langdetect\r\n",
        "from langdetect import detect\r\n",
        "def lang_d(lyric):\r\n",
        "  try :\r\n",
        "    lang = detect(lyric)\r\n",
        "    if lang not in ['fr','en'] :\r\n",
        "      return None\r\n",
        "    else:\r\n",
        "      return lyric\r\n",
        "  except:\r\n",
        "    return None\r\n",
        "\r\n",
        "df['lyrics'] = df['lyrics'].apply(lang_d)\r\n",
        "df = df.dropna()"
      ],
      "execution_count": null,
      "outputs": [
        {
          "output_type": "stream",
          "text": [
            "Collecting langdetect\n",
            "\u001b[?25l  Downloading https://files.pythonhosted.org/packages/56/a3/8407c1e62d5980188b4acc45ef3d94b933d14a2ebc9ef3505f22cf772570/langdetect-1.0.8.tar.gz (981kB)\n",
            "\r\u001b[K     |▍                               | 10kB 19.4MB/s eta 0:00:01\r\u001b[K     |▊                               | 20kB 25.0MB/s eta 0:00:01\r\u001b[K     |█                               | 30kB 12.1MB/s eta 0:00:01\r\u001b[K     |█▍                              | 40kB 9.0MB/s eta 0:00:01\r\u001b[K     |█▊                              | 51kB 8.2MB/s eta 0:00:01\r\u001b[K     |██                              | 61kB 8.1MB/s eta 0:00:01\r\u001b[K     |██▍                             | 71kB 8.2MB/s eta 0:00:01\r\u001b[K     |██▊                             | 81kB 8.3MB/s eta 0:00:01\r\u001b[K     |███                             | 92kB 7.8MB/s eta 0:00:01\r\u001b[K     |███▍                            | 102kB 7.5MB/s eta 0:00:01\r\u001b[K     |███▊                            | 112kB 7.5MB/s eta 0:00:01\r\u001b[K     |████                            | 122kB 7.5MB/s eta 0:00:01\r\u001b[K     |████▍                           | 133kB 7.5MB/s eta 0:00:01\r\u001b[K     |████▊                           | 143kB 7.5MB/s eta 0:00:01\r\u001b[K     |█████                           | 153kB 7.5MB/s eta 0:00:01\r\u001b[K     |█████▍                          | 163kB 7.5MB/s eta 0:00:01\r\u001b[K     |█████▊                          | 174kB 7.5MB/s eta 0:00:01\r\u001b[K     |██████                          | 184kB 7.5MB/s eta 0:00:01\r\u001b[K     |██████▍                         | 194kB 7.5MB/s eta 0:00:01\r\u001b[K     |██████▊                         | 204kB 7.5MB/s eta 0:00:01\r\u001b[K     |███████                         | 215kB 7.5MB/s eta 0:00:01\r\u001b[K     |███████▍                        | 225kB 7.5MB/s eta 0:00:01\r\u001b[K     |███████▊                        | 235kB 7.5MB/s eta 0:00:01\r\u001b[K     |████████                        | 245kB 7.5MB/s eta 0:00:01\r\u001b[K     |████████▍                       | 256kB 7.5MB/s eta 0:00:01\r\u001b[K     |████████▊                       | 266kB 7.5MB/s eta 0:00:01\r\u001b[K     |█████████                       | 276kB 7.5MB/s eta 0:00:01\r\u001b[K     |█████████▍                      | 286kB 7.5MB/s eta 0:00:01\r\u001b[K     |█████████▊                      | 296kB 7.5MB/s eta 0:00:01\r\u001b[K     |██████████                      | 307kB 7.5MB/s eta 0:00:01\r\u001b[K     |██████████▍                     | 317kB 7.5MB/s eta 0:00:01\r\u001b[K     |██████████▊                     | 327kB 7.5MB/s eta 0:00:01\r\u001b[K     |███████████                     | 337kB 7.5MB/s eta 0:00:01\r\u001b[K     |███████████▍                    | 348kB 7.5MB/s eta 0:00:01\r\u001b[K     |███████████▊                    | 358kB 7.5MB/s eta 0:00:01\r\u001b[K     |████████████                    | 368kB 7.5MB/s eta 0:00:01\r\u001b[K     |████████████▍                   | 378kB 7.5MB/s eta 0:00:01\r\u001b[K     |████████████▊                   | 389kB 7.5MB/s eta 0:00:01\r\u001b[K     |█████████████                   | 399kB 7.5MB/s eta 0:00:01\r\u001b[K     |█████████████▍                  | 409kB 7.5MB/s eta 0:00:01\r\u001b[K     |█████████████▊                  | 419kB 7.5MB/s eta 0:00:01\r\u001b[K     |██████████████                  | 430kB 7.5MB/s eta 0:00:01\r\u001b[K     |██████████████▍                 | 440kB 7.5MB/s eta 0:00:01\r\u001b[K     |██████████████▊                 | 450kB 7.5MB/s eta 0:00:01\r\u001b[K     |███████████████                 | 460kB 7.5MB/s eta 0:00:01\r\u001b[K     |███████████████▍                | 471kB 7.5MB/s eta 0:00:01\r\u001b[K     |███████████████▊                | 481kB 7.5MB/s eta 0:00:01\r\u001b[K     |████████████████                | 491kB 7.5MB/s eta 0:00:01\r\u001b[K     |████████████████▍               | 501kB 7.5MB/s eta 0:00:01\r\u001b[K     |████████████████▊               | 512kB 7.5MB/s eta 0:00:01\r\u001b[K     |█████████████████               | 522kB 7.5MB/s eta 0:00:01\r\u001b[K     |█████████████████▍              | 532kB 7.5MB/s eta 0:00:01\r\u001b[K     |█████████████████▊              | 542kB 7.5MB/s eta 0:00:01\r\u001b[K     |██████████████████              | 552kB 7.5MB/s eta 0:00:01\r\u001b[K     |██████████████████▍             | 563kB 7.5MB/s eta 0:00:01\r\u001b[K     |██████████████████▊             | 573kB 7.5MB/s eta 0:00:01\r\u001b[K     |███████████████████             | 583kB 7.5MB/s eta 0:00:01\r\u001b[K     |███████████████████▍            | 593kB 7.5MB/s eta 0:00:01\r\u001b[K     |███████████████████▊            | 604kB 7.5MB/s eta 0:00:01\r\u001b[K     |████████████████████            | 614kB 7.5MB/s eta 0:00:01\r\u001b[K     |████████████████████▍           | 624kB 7.5MB/s eta 0:00:01\r\u001b[K     |████████████████████▊           | 634kB 7.5MB/s eta 0:00:01\r\u001b[K     |█████████████████████           | 645kB 7.5MB/s eta 0:00:01\r\u001b[K     |█████████████████████▍          | 655kB 7.5MB/s eta 0:00:01\r\u001b[K     |█████████████████████▊          | 665kB 7.5MB/s eta 0:00:01\r\u001b[K     |██████████████████████          | 675kB 7.5MB/s eta 0:00:01\r\u001b[K     |██████████████████████▍         | 686kB 7.5MB/s eta 0:00:01\r\u001b[K     |██████████████████████▊         | 696kB 7.5MB/s eta 0:00:01\r\u001b[K     |███████████████████████         | 706kB 7.5MB/s eta 0:00:01\r\u001b[K     |███████████████████████▍        | 716kB 7.5MB/s eta 0:00:01\r\u001b[K     |███████████████████████▊        | 727kB 7.5MB/s eta 0:00:01\r\u001b[K     |████████████████████████        | 737kB 7.5MB/s eta 0:00:01\r\u001b[K     |████████████████████████▍       | 747kB 7.5MB/s eta 0:00:01\r\u001b[K     |████████████████████████▊       | 757kB 7.5MB/s eta 0:00:01\r\u001b[K     |█████████████████████████       | 768kB 7.5MB/s eta 0:00:01\r\u001b[K     |█████████████████████████▍      | 778kB 7.5MB/s eta 0:00:01\r\u001b[K     |█████████████████████████▊      | 788kB 7.5MB/s eta 0:00:01\r\u001b[K     |██████████████████████████      | 798kB 7.5MB/s eta 0:00:01\r\u001b[K     |██████████████████████████▍     | 808kB 7.5MB/s eta 0:00:01\r\u001b[K     |██████████████████████████▊     | 819kB 7.5MB/s eta 0:00:01\r\u001b[K     |███████████████████████████     | 829kB 7.5MB/s eta 0:00:01\r\u001b[K     |███████████████████████████▍    | 839kB 7.5MB/s eta 0:00:01\r\u001b[K     |███████████████████████████▊    | 849kB 7.5MB/s eta 0:00:01\r\u001b[K     |████████████████████████████    | 860kB 7.5MB/s eta 0:00:01\r\u001b[K     |████████████████████████████▍   | 870kB 7.5MB/s eta 0:00:01\r\u001b[K     |████████████████████████████▊   | 880kB 7.5MB/s eta 0:00:01\r\u001b[K     |█████████████████████████████   | 890kB 7.5MB/s eta 0:00:01\r\u001b[K     |█████████████████████████████▍  | 901kB 7.5MB/s eta 0:00:01\r\u001b[K     |█████████████████████████████▊  | 911kB 7.5MB/s eta 0:00:01\r\u001b[K     |██████████████████████████████  | 921kB 7.5MB/s eta 0:00:01\r\u001b[K     |██████████████████████████████▍ | 931kB 7.5MB/s eta 0:00:01\r\u001b[K     |██████████████████████████████▊ | 942kB 7.5MB/s eta 0:00:01\r\u001b[K     |███████████████████████████████ | 952kB 7.5MB/s eta 0:00:01\r\u001b[K     |███████████████████████████████▍| 962kB 7.5MB/s eta 0:00:01\r\u001b[K     |███████████████████████████████▊| 972kB 7.5MB/s eta 0:00:01\r\u001b[K     |████████████████████████████████| 983kB 7.5MB/s \n",
            "\u001b[?25hRequirement already satisfied: six in /usr/local/lib/python3.7/dist-packages (from langdetect) (1.15.0)\n",
            "Building wheels for collected packages: langdetect\n",
            "  Building wheel for langdetect (setup.py) ... \u001b[?25l\u001b[?25hdone\n",
            "  Created wheel for langdetect: filename=langdetect-1.0.8-cp37-none-any.whl size=993193 sha256=085bc568aca0959fa01440d7344bf90af3100ee5c21992f40e7f1d0e32feb793\n",
            "  Stored in directory: /root/.cache/pip/wheels/8d/b3/aa/6d99de9f3841d7d3d40a60ea06e6d669e8e5012e6c8b947a57\n",
            "Successfully built langdetect\n",
            "Installing collected packages: langdetect\n",
            "Successfully installed langdetect-1.0.8\n"
          ],
          "name": "stdout"
        }
      ]
    },
    {
      "cell_type": "markdown",
      "metadata": {
        "id": "W9EWk8L-3-bn"
      },
      "source": [
        "Suppression des genres peu représentés"
      ]
    },
    {
      "cell_type": "code",
      "metadata": {
        "id": "9Rt6RNONzULq"
      },
      "source": [
        "df = df.drop(df[(df['tag'] == 'non-music') | (df['tag'] == 'country')].index)"
      ],
      "execution_count": null,
      "outputs": []
    },
    {
      "cell_type": "markdown",
      "metadata": {
        "id": "BvNbk0VR4b_X"
      },
      "source": [
        "Traitement des mots et supression des stop_words"
      ]
    },
    {
      "cell_type": "code",
      "metadata": {
        "colab": {
          "base_uri": "https://localhost:8080/"
        },
        "id": "caOrtarP4D21",
        "outputId": "2a50d3ac-7466-4d0f-99ab-1baa49f60773"
      },
      "source": [
        "import re\r\n",
        "import nltk \r\n",
        "nltk.download('stopwords')\r\n",
        "nltk.download('punkt')\r\n",
        "from nltk.corpus import stopwords\r\n",
        "from nltk.tokenize import sent_tokenize\r\n",
        "\r\n",
        "stop_words = stopwords.words('english') + stopwords.words('french')\r\n",
        "def stop_word_delete(lyric,stop_words=stop_words):\r\n",
        "  return \" \".join([word for word in lyric.split(\" \") if word not in stop_words ])\r\n",
        "\r\n",
        "def preprocessing(lyric):\r\n",
        "  lyric = [line for line in lyric.split(\"\\n\") if line !='']\r\n",
        "  lyric = pd.Series(filter(lambda x : '[' not in x, lyric))\r\n",
        "  lyric = [re.sub(\"\\d+\",\"\",line.lower()) for line in lyric]\r\n",
        "  lyric = \" \".join([re.sub(\"\\\"\",\"\",line.lower()) for line in lyric])\r\n",
        "  return lyric\r\n",
        "\r\n",
        "df['lyrics_prepro'] = df['lyrics'].apply(preprocessing)\r\n",
        "df['lyrics_prepro'] = df['lyrics_prepro'].apply(stop_word_delete)\r\n",
        "df['lyrics_prepro'] = df['lyrics_prepro'].apply(sent_tokenize)"
      ],
      "execution_count": null,
      "outputs": [
        {
          "output_type": "stream",
          "text": [
            "[nltk_data] Downloading package stopwords to /root/nltk_data...\n",
            "[nltk_data]   Unzipping corpora/stopwords.zip.\n",
            "[nltk_data] Downloading package punkt to /root/nltk_data...\n",
            "[nltk_data]   Unzipping tokenizers/punkt.zip.\n"
          ],
          "name": "stdout"
        }
      ]
    },
    {
      "cell_type": "markdown",
      "metadata": {
        "id": "ngSHP83I9dUw"
      },
      "source": [
        "# Augmentation du nombre de données"
      ]
    },
    {
      "cell_type": "markdown",
      "metadata": {
        "id": "rIk-GVW19Tzd"
      },
      "source": [
        "Application du Sent_tokenizer pour augmenter le nombre de données"
      ]
    },
    {
      "cell_type": "code",
      "metadata": {
        "colab": {
          "base_uri": "https://localhost:8080/"
        },
        "id": "eZrVDhPT8HbR",
        "outputId": "f6878f82-8957-4afc-acac-fba6781964ac"
      },
      "source": [
        "df_fit = pd.DataFrame(columns=['tag','lyrics'])\r\n",
        "df_fit['lyrics'] = [sent for lyrics in df['lyrics_prepro'] for sent in lyrics if len(sent) > 10] \r\n",
        "df_fit['tag'] = [tag for tag, lyrics in df[['tag','lyrics_prepro']].values for sent in lyrics if len(sent) > 10]\r\n",
        "df_fit.count()"
      ],
      "execution_count": null,
      "outputs": [
        {
          "output_type": "execute_result",
          "data": {
            "text/plain": [
              "tag       25734\n",
              "lyrics    25734\n",
              "dtype: int64"
            ]
          },
          "metadata": {
            "tags": []
          },
          "execution_count": 7
        }
      ]
    },
    {
      "cell_type": "code",
      "metadata": {
        "colab": {
          "base_uri": "https://localhost:8080/",
          "height": 295
        },
        "id": "pZ36_aek9sMj",
        "outputId": "65056855-8035-445b-ded4-1b180c14c920"
      },
      "source": [
        "import seaborn as sns\r\n",
        "import matplotlib.pyplot as plt\r\n",
        "fig, axarr = plt.subplots(nrows=1, ncols=2, figsize=(8,4),sharey=True)\r\n",
        "axarr[0].set_title(\"Number of samples in df\")\r\n",
        "sns.countplot(x=df['tag'], ax=axarr[0])\r\n",
        "axarr[1].set_title(\"Number of samples new df\")\r\n",
        "sns.countplot(x=df_fit['tag'], ax=axarr[1])\r\n",
        "plt.show()"
      ],
      "execution_count": null,
      "outputs": [
        {
          "output_type": "display_data",
          "data": {
            "image/png": "[encoded data removed]",
            "text/plain": [
              "<Figure size 576x288 with 2 Axes>"
            ]
          },
          "metadata": {
            "tags": [],
            "needs_background": "light"
          }
        }
      ]
    },
    {
      "cell_type": "markdown",
      "metadata": {
        "id": "45FmVyM093qc"
      },
      "source": [
        "# Analyse du vocabulaire"
      ]
    },
    {
      "cell_type": "markdown",
      "metadata": {
        "id": "d6j3j4dO-Htp"
      },
      "source": [
        "Séparation label et contenu"
      ]
    },
    {
      "cell_type": "code",
      "metadata": {
        "id": "VC7aP-Vh-FqS"
      },
      "source": [
        "X = df_fit['lyrics']\r\n",
        "Y = pd.get_dummies(df_fit['tag']).values"
      ],
      "execution_count": null,
      "outputs": []
    },
    {
      "cell_type": "code",
      "metadata": {
        "colab": {
          "base_uri": "https://localhost:8080/"
        },
        "id": "ZmqIoILe9xtv",
        "outputId": "2f3efdc6-ddc8-46b3-e52c-66711f963869"
      },
      "source": [
        "from keras.preprocessing.text import Tokenizer\r\n",
        "tokenizer = Tokenizer(num_words=50000, filters='!\"#$%&()*+,-./:;<=>?@[\\]^_`{|}~', lower=True)\r\n",
        "tokenizer.fit_on_texts(X)\r\n",
        "vocab_size = len(tokenizer.word_index)\r\n",
        "print(\"nombre de mots : \",vocab_size)\r\n",
        "max_len= max([len(line.split(\" \")) for line in X ])\r\n",
        "print(\"nombre maximum de mot par ligne : \",max_len)\r\n",
        "nb_word = np.mean([len(line.split(\" \")) for line in X ])\r\n",
        "print(\"nombre moyen de mot par ligne : \",round(nb_word,1))"
      ],
      "execution_count": null,
      "outputs": [
        {
          "output_type": "stream",
          "text": [
            "nombre de mots :  36927\n",
            "nombre maximum de mot par ligne :  726\n",
            "nombre moyen de mot par ligne :  39.4\n"
          ],
          "name": "stdout"
        }
      ]
    },
    {
      "cell_type": "markdown",
      "metadata": {
        "id": "kmyqJrFP-nBl"
      },
      "source": [
        "# Train/test"
      ]
    },
    {
      "cell_type": "code",
      "metadata": {
        "colab": {
          "base_uri": "https://localhost:8080/"
        },
        "id": "oj8jJmGu-iFl",
        "outputId": "0c73dd69-d9f3-497a-8bd5-da8d143ebcb9"
      },
      "source": [
        "from sklearn.model_selection import train_test_split\r\n",
        "from keras.preprocessing.sequence import pad_sequences\r\n",
        "\r\n",
        "X = tokenizer.texts_to_sequences(X)\r\n",
        "X = pad_sequences(X, maxlen=70, padding='post')\r\n",
        "X_train, X_test, y_train, y_test = train_test_split(X, Y, test_size=0.20)\r\n",
        "print(\"X\")\r\n",
        "print(X_train.shape,y_train.shape)\r\n",
        "print(\"label\")\r\n",
        "print(X_test.shape,y_test.shape)"
      ],
      "execution_count": null,
      "outputs": [
        {
          "output_type": "stream",
          "text": [
            "X\n",
            "(20587, 70) (20587, 4)\n",
            "label\n",
            "(5147, 70) (5147, 4)\n"
          ],
          "name": "stdout"
        }
      ]
    },
    {
      "cell_type": "markdown",
      "metadata": {
        "id": "Nz3ZI4qjAqXW"
      },
      "source": [
        "# models"
      ]
    },
    {
      "cell_type": "markdown",
      "metadata": {
        "id": "NywfyO4aAw3-"
      },
      "source": [
        "Import"
      ]
    },
    {
      "cell_type": "code",
      "metadata": {
        "id": "buTWA1h0Aj4v"
      },
      "source": [
        "from keras.models import Sequential\r\n",
        "from keras.layers import Dense, Activation, Embedding, SpatialDropout1D, LSTM\r\n",
        "from keras.callbacks import ModelCheckpoint, EarlyStopping\r\n",
        "from keras.layers import BatchNormalization as BatchNorm\r\n",
        "from keras.layers import Dropout\r\n",
        "from keras import optimizers"
      ],
      "execution_count": null,
      "outputs": []
    },
    {
      "cell_type": "markdown",
      "metadata": {
        "id": "rEzD6VDYA0Xg"
      },
      "source": [
        "model 1"
      ]
    },
    {
      "cell_type": "code",
      "metadata": {
        "colab": {
          "base_uri": "https://localhost:8080/"
        },
        "id": "zvxv6nHjAylc",
        "outputId": "5987646d-ef22-4ccf-e2df-f0f53bb5e641"
      },
      "source": [
        "def model():\r\n",
        "    optimizer = optimizers.RMSprop(lr=0.01)\r\n",
        "    model = Sequential()\r\n",
        "    model.add(Embedding(vocab_size, 100, input_length=X.shape[1]))\r\n",
        "    model.add(SpatialDropout1D(0.2))\r\n",
        "    model.add(LSTM(100, dropout=0.2, recurrent_dropout=0.2))\r\n",
        "    model.add(Dense(4, activation='softmax'))\r\n",
        "    model.compile(loss='categorical_crossentropy', optimizer=optimizer, metrics=['accuracy'])\r\n",
        "    return model\r\n",
        "\r\n",
        "\r\n",
        "model=model()\r\n",
        "epochs = 10    \r\n",
        "batch_size = 64\r\n",
        "\r\n",
        "history = model.fit(X_train, y_train, epochs=epochs, batch_size=batch_size,validation_split=0.1,callbacks=[EarlyStopping(monitor='val_loss', patience=3, min_delta=0.0001)])\r\n"
      ],
      "execution_count": null,
      "outputs": [
        {
          "output_type": "stream",
          "text": [
            "Epoch 1/10\n",
            "290/290 [==============================] - 65s 216ms/step - loss: 1.3757 - accuracy: 0.3394 - val_loss: 1.3857 - val_accuracy: 0.3327\n",
            "Epoch 2/10\n",
            "290/290 [==============================] - 62s 212ms/step - loss: 1.2857 - accuracy: 0.3890 - val_loss: 1.1933 - val_accuracy: 0.4789\n",
            "Epoch 3/10\n",
            "290/290 [==============================] - 62s 214ms/step - loss: 1.0885 - accuracy: 0.5241 - val_loss: 1.1689 - val_accuracy: 0.4973\n",
            "Epoch 4/10\n",
            "290/290 [==============================] - 62s 214ms/step - loss: 0.9343 - accuracy: 0.6069 - val_loss: 1.1809 - val_accuracy: 0.5143\n",
            "Epoch 5/10\n",
            "290/290 [==============================] - 62s 214ms/step - loss: 0.8191 - accuracy: 0.6582 - val_loss: 1.2174 - val_accuracy: 0.5168\n",
            "Epoch 6/10\n",
            "290/290 [==============================] - 62s 214ms/step - loss: 0.7397 - accuracy: 0.6904 - val_loss: 1.2942 - val_accuracy: 0.5085\n"
          ],
          "name": "stdout"
        }
      ]
    },
    {
      "cell_type": "markdown",
      "metadata": {
        "id": "f4wPyQ_pPZDt"
      },
      "source": [
        "model 2"
      ]
    },
    {
      "cell_type": "code",
      "metadata": {
        "colab": {
          "base_uri": "https://localhost:8080/"
        },
        "id": "Nr6UhB6uBHI-",
        "outputId": "16b5adc8-f524-4472-867f-cf24c3229ef0"
      },
      "source": [
        "def model_2():\r\n",
        "    optimizer = optimizers.RMSprop(lr=0.01)\r\n",
        "    model = Sequential()\r\n",
        "    model.add(Embedding(vocab_size, 100, input_length=X.shape[1]))\r\n",
        "    model.add(SpatialDropout1D(0.2))\r\n",
        "    model.add(LSTM(100, dropout=0.2, recurrent_dropout=0.2))\r\n",
        "    model.add(Dense(50))\r\n",
        "    model.add(BatchNorm())\r\n",
        "    model.add(Dropout(0.3))\r\n",
        "    model.add(Activation('relu'))\r\n",
        "    model.add(BatchNorm())\r\n",
        "    model.add(Dropout(0.3))\r\n",
        "    model.add(Dense(4))\r\n",
        "    model.add(Activation('softmax'))\r\n",
        "    model.compile(loss='categorical_crossentropy', optimizer=optimizer, metrics=['accuracy'])\r\n",
        "    return model\r\n",
        "\r\n",
        "\r\n",
        "model_2=model_2()\r\n",
        "epochs = 100    \r\n",
        "batch_size = 64\r\n",
        "\r\n",
        "history = model_2.fit(X_train, y_train, epochs=epochs, batch_size=batch_size,validation_split=0.1,callbacks=[EarlyStopping(monitor='val_loss', patience=3, min_delta=0.0001)])"
      ],
      "execution_count": null,
      "outputs": [
        {
          "output_type": "stream",
          "text": [
            "Epoch 1/5\n",
            "290/290 [==============================] - 66s 216ms/step - loss: 1.4919 - accuracy: 0.2948 - val_loss: 1.4143 - val_accuracy: 0.2244\n",
            "Epoch 2/5\n",
            "290/290 [==============================] - 62s 215ms/step - loss: 1.3595 - accuracy: 0.3375 - val_loss: 1.3609 - val_accuracy: 0.3594\n",
            "Epoch 3/5\n",
            "290/290 [==============================] - 62s 215ms/step - loss: 1.2640 - accuracy: 0.4061 - val_loss: 1.2206 - val_accuracy: 0.4517\n",
            "Epoch 4/5\n",
            "290/290 [==============================] - 62s 214ms/step - loss: 1.1170 - accuracy: 0.5103 - val_loss: 1.1679 - val_accuracy: 0.4706\n",
            "Epoch 5/5\n",
            "290/290 [==============================] - 62s 215ms/step - loss: 1.0076 - accuracy: 0.5804 - val_loss: 1.2116 - val_accuracy: 0.4750\n"
          ],
          "name": "stdout"
        }
      ]
    },
    {
      "cell_type": "markdown",
      "metadata": {
        "id": "aqUwu7yPiTyn"
      },
      "source": [
        "accuracy"
      ]
    },
    {
      "cell_type": "code",
      "metadata": {
        "id": "XINJiwvWJg9J"
      },
      "source": [
        "accr = model.evaluate(X_test,y_test)\r\n",
        "print('Test set\\n  Loss: {:0.3f}\\n  Accuracy: {:0.3f}'.format(accr[0],accr[1]))\r\n",
        "accr = model_2.evaluate(X_test,y_test)\r\n",
        "print('Test set\\n  Loss: {:0.3f}\\n  Accuracy: {:0.3f}'.format(accr[0],accr[1]))"
      ],
      "execution_count": null,
      "outputs": []
    },
    {
      "cell_type": "code",
      "metadata": {
        "colab": {
          "base_uri": "https://localhost:8080/",
          "height": 281
        },
        "id": "R51gSnppSnHO",
        "outputId": "c2c13452-c3a0-40ea-ef76-d60425ab19c9"
      },
      "source": [
        "plt.title('Loss')\r\n",
        "plt.plot(history.history['loss'], label='train')\r\n",
        "plt.plot(history.history['val_loss'], label='test')\r\n",
        "plt.legend()\r\n",
        "plt.show();"
      ],
      "execution_count": null,
      "outputs": [
        {
          "output_type": "display_data",
          "data": {
            "image/png": "[encoded data removed]",
            "text/plain": [
              "<Figure size 432x288 with 1 Axes>"
            ]
          },
          "metadata": {
            "tags": [],
            "needs_background": "light"
          }
        }
      ]
    },
    {
      "cell_type": "markdown",
      "metadata": {
        "id": "TgK8qkc3iQHj"
      },
      "source": [
        "# Prediction"
      ]
    },
    {
      "cell_type": "code",
      "metadata": {
        "colab": {
          "base_uri": "https://localhost:8080/"
        },
        "id": "20O644pqJDBn",
        "outputId": "fa1aec9c-418e-4597-f4ba-3590d4ec6a08"
      },
      "source": [
        "lyric = df['lyrics'][51]\r\n",
        "lyric = preprocessing(lyric)\r\n",
        "print(lyric)\r\n",
        "lyric = stop_word_delete(lyric)\r\n",
        "print(lyric)\r\n",
        "list_lyrics = [sent for sent in sent_tokenize(lyric) if len(sent) > 10] \r\n",
        "print(list_lyrics)"
      ],
      "execution_count": null,
      "outputs": [
        {
          "output_type": "stream",
          "text": [
            "everybody get up everybody get up hey, hey, hey hey, hey, hey (uh) hey, hey, hey (ha-ha! woo!) tune me up if you can't hear what i'm trying to say (hey girl, come here!) if you can't read from the same page (hey) maybe i'm going deaf (hey, hey, hey) maybe i'm going blind (hey, hey, hey) maybe i'm out of my mind (hey, hey, hey) everybody get up okay, now he was close tried to domesticate you but you're an animal baby, it's in your nature (meow) just let me liberate you (hey, hey, hey) you don't need no takers (hey, hey, hey) that man is not your maker (hey, hey, hey) and that's why i'm gon' take a (everybody get up) good girl i know you want it (hey) i know you want it i know you want it you're a good girl can't let it get past me you're far from plastic (alright) talkin' 'bout getting blasted i hate these blurred lines i know you want it (hey) i know you want it (oh yeah) i know you want it but you're a good girl the way you grab me must wanna get nasty go ahead, get at me everybody get up (come on!) what do they make dreams for (why?) when you got them jeans on? (why?) what do we need steam for? you the hottest bitch in this place i feel so lucky (hey, hey, hey) you wanna hug me (hey, hey, hey) what rhymes with hug me? (hey, hey, hey) hey! (everybody get up) okay, now he was close tried to domesticate you but you're an animal baby, it's in your nature (uh-huh) just let me liberate you (hey, hey, hey) (uh-huh) you don't need no takers (hey, hey, hey) (uh-huh) that man is not your maker (hey, hey, hey) (uh-huh) and that's why i'm gon' take a (everybody get up) good girl i know you want it i know you want it (hey) i know you want it you're a good girl can't let it get past me (hey) you're far from plastic (oh) talkin' 'bout getting blasted (everybody get up) i hate these blurred lines (hate them lines) i know you want it (i hate them lines) i know you want it (i hate them lines) i know you want it but you're a good girl (good girl) the way you grab me must wanna get nasty go ahead, get at me (everybody get up) hustle gang, homie let go ay say rob, let me holla at 'em real quick one thing i ask of you let me be the one you back that ass up to (come on!) go from malibu to paris, boo (yeah) had a bitch, but she ain't bad as you so, hit me up when you pass through i'll give you something big enough to tear your ass in two swag on 'em even when you dress casual i mean, it's almost unbearable (everybody get up) in a hundred years not dare would i pull a pharcyde, let you pass me by nothin' like your last guy, he too square for you he don't smack that ass and pull your hair like that so i'm just watchin' and waitin' for you to salute the true big pimpin' (okay) not many women can refuse this pimpin' i'm a nice guy, but don't get it confused, get pimpin' (everybody get up) shake your rump get down, get up-a do it like it hurt, like it hurt what, you don't like work? hey! (everybody get up) baby, can you breathe? i got this from jamaica it always works for me dakota to decatur (uh-huh) no more pretending (hey, hey, hey) (uh-huh) 'cause now you're winning (hey, hey, hey) (uh-huh) here's our beginning (hey, hey, hey) (uh-huh) i always wanted a you're a good girl (everybody get up) i know you want it (hey) i know you want it i know you want it you're a good girl can't let it get past me (oh yeah) you're far from plastic (alright) talkin' 'bout getting blasted i hate these blurred lines (everybody get up) i know you want it (hey) i know you want it (oh yeah) i know you want it but you're a good girl the way you grab me must wanna get nasty (hey) go ahead, get at me everybody get up everybody get up hey, hey, hey hey, hey, hey hey, hey, hey\n",
            "everybody get everybody get hey, hey, hey hey, hey, hey (uh) hey, hey, hey (ha-ha! woo!) tune can't hear i'm trying say (hey girl, come here!) can't read page (hey) maybe i'm going deaf (hey, hey, hey) maybe i'm going blind (hey, hey, hey) maybe i'm mind (hey, hey, hey) everybody get okay, close tried domesticate animal baby, nature (meow) let liberate (hey, hey, hey) need takers (hey, hey, hey) man maker (hey, hey, hey) that's i'm gon' take (everybody get up) good girl know want (hey) know want know want good girl can't let get past far plastic (alright) talkin' 'bout getting blasted hate blurred lines know want (hey) know want (oh yeah) know want good girl way grab must wanna get nasty go ahead, get everybody get (come on!) make dreams (why?) got jeans on? (why?) need steam for? hottest bitch place feel lucky (hey, hey, hey) wanna hug (hey, hey, hey) rhymes hug me? (hey, hey, hey) hey! (everybody get up) okay, close tried domesticate animal baby, nature (uh-huh) let liberate (hey, hey, hey) (uh-huh) need takers (hey, hey, hey) (uh-huh) man maker (hey, hey, hey) (uh-huh) that's i'm gon' take (everybody get up) good girl know want know want (hey) know want good girl can't let get past (hey) far plastic (oh) talkin' 'bout getting blasted (everybody get up) hate blurred lines (hate lines) know want (i hate lines) know want (i hate lines) know want good girl (good girl) way grab must wanna get nasty go ahead, get (everybody get up) hustle gang, homie let go ay say rob, let holla 'em real quick one thing ask let one back ass (come on!) go malibu paris, boo (yeah) bitch, ain't bad so, hit pass i'll give something big enough tear ass two swag 'em even dress casual mean, almost unbearable (everybody get up) hundred years dare would pull pharcyde, let pass nothin' like last guy, square smack ass pull hair like i'm watchin' waitin' salute true big pimpin' (okay) many women refuse pimpin' i'm nice guy, get confused, get pimpin' (everybody get up) shake rump get down, get up-a like hurt, like hurt what, like work? hey! (everybody get up) baby, breathe? got jamaica always works dakota decatur (uh-huh) pretending (hey, hey, hey) (uh-huh) 'cause winning (hey, hey, hey) (uh-huh) here's beginning (hey, hey, hey) (uh-huh) always wanted good girl (everybody get up) know want (hey) know want know want good girl can't let get past (oh yeah) far plastic (alright) talkin' 'bout getting blasted hate blurred lines (everybody get up) know want (hey) know want (oh yeah) know want good girl way grab must wanna get nasty (hey) go ahead, get everybody get everybody get hey, hey, hey hey, hey, hey hey, hey, hey\n",
            "['everybody get everybody get hey, hey, hey hey, hey, hey (uh) hey, hey, hey (ha-ha!', \"tune can't hear i'm trying say (hey girl, come here!)\", \"can't read page (hey) maybe i'm going deaf (hey, hey, hey) maybe i'm going blind (hey, hey, hey) maybe i'm mind (hey, hey, hey) everybody get okay, close tried domesticate animal baby, nature (meow) let liberate (hey, hey, hey) need takers (hey, hey, hey) man maker (hey, hey, hey) that's i'm gon' take (everybody get up) good girl know want (hey) know want know want good girl can't let get past far plastic (alright) talkin' 'bout getting blasted hate blurred lines know want (hey) know want (oh yeah) know want good girl way grab must wanna get nasty go ahead, get everybody get (come on!)\", 'make dreams (why?)', 'got jeans on?', 'need steam for?', 'hottest bitch place feel lucky (hey, hey, hey) wanna hug (hey, hey, hey) rhymes hug me?', '(hey, hey, hey) hey!', \"(everybody get up) okay, close tried domesticate animal baby, nature (uh-huh) let liberate (hey, hey, hey) (uh-huh) need takers (hey, hey, hey) (uh-huh) man maker (hey, hey, hey) (uh-huh) that's i'm gon' take (everybody get up) good girl know want know want (hey) know want good girl can't let get past (hey) far plastic (oh) talkin' 'bout getting blasted (everybody get up) hate blurred lines (hate lines) know want (i hate lines) know want (i hate lines) know want good girl (good girl) way grab must wanna get nasty go ahead, get (everybody get up) hustle gang, homie let go ay say rob, let holla 'em real quick one thing ask let one back ass (come on!)\", \"go malibu paris, boo (yeah) bitch, ain't bad so, hit pass i'll give something big enough tear ass two swag 'em even dress casual mean, almost unbearable (everybody get up) hundred years dare would pull pharcyde, let pass nothin' like last guy, square smack ass pull hair like i'm watchin' waitin' salute true big pimpin' (okay) many women refuse pimpin' i'm nice guy, get confused, get pimpin' (everybody get up) shake rump get down, get up-a like hurt, like hurt what, like work?\", '(everybody get up) baby, breathe?', \"got jamaica always works dakota decatur (uh-huh) pretending (hey, hey, hey) (uh-huh) 'cause winning (hey, hey, hey) (uh-huh) here's beginning (hey, hey, hey) (uh-huh) always wanted good girl (everybody get up) know want (hey) know want know want good girl can't let get past (oh yeah) far plastic (alright) talkin' 'bout getting blasted hate blurred lines (everybody get up) know want (hey) know want (oh yeah) know want good girl way grab must wanna get nasty (hey) go ahead, get everybody get everybody get hey, hey, hey hey, hey, hey hey, hey, hey\"]\n"
          ],
          "name": "stdout"
        }
      ]
    },
    {
      "cell_type": "markdown",
      "metadata": {
        "id": "3fj5E0bMnGGF"
      },
      "source": [
        "Prediction pour chaque phrases d'un texte"
      ]
    },
    {
      "cell_type": "code",
      "metadata": {
        "colab": {
          "base_uri": "https://localhost:8080/"
        },
        "id": "CgV6vRWBRDB_",
        "outputId": "5196d489-2044-433d-f721-a3c0ae26d908"
      },
      "source": [
        "for l in list_lyrics :\r\n",
        "  l = [l]\r\n",
        "  seq = tokenizer.texts_to_sequences(l)\r\n",
        "  padded = pad_sequences(seq, maxlen=70)\r\n",
        "  pred = model.predict(padded)\r\n",
        "  labels = pd.unique(df_fit['tag'])\r\n",
        "  print(pred, labels[np.argmax(pred)])"
      ],
      "execution_count": null,
      "outputs": [
        {
          "output_type": "stream",
          "text": [
            "[[0.41107747 0.28426164 0.15886858 0.14579237]] rap\n",
            "[[0.04609607 0.8792961  0.06427729 0.01033061]] pop\n",
            "[[0.1925233  0.583643   0.2157262  0.00810746]] pop\n",
            "[[0.41197255 0.35353822 0.18842025 0.04606907]] rap\n",
            "[[0.12717897 0.34854323 0.36197236 0.16230544]] r-b\n",
            "[[0.61470264 0.26072156 0.08975822 0.0348175 ]] rap\n",
            "[[0.32517257 0.5739543  0.09201894 0.00885414]] pop\n",
            "[[0.5069817  0.12336759 0.02833851 0.3413123 ]] rap\n",
            "[[0.04800818 0.10499429 0.8270527  0.01994485]] r-b\n",
            "[[1.1480754e-01 7.5949639e-01 1.2497378e-01 7.2225567e-04]] pop\n",
            "[[0.10500415 0.35831913 0.12407397 0.4126028 ]] rock\n",
            "[[0.42676026 0.4212783  0.09315382 0.05880764]] rap\n"
          ],
          "name": "stdout"
        }
      ]
    }
  ]
}